{
 "cells": [
  {
   "metadata": {},
   "cell_type": "markdown",
   "source": "# 1. 라이브러리 임포트 및 설정\n",
   "id": "756ef0772d90bde0"
  },
  {
   "cell_type": "code",
   "id": "initial_id",
   "metadata": {
    "collapsed": true,
    "ExecuteTime": {
     "end_time": "2025-08-13T09:23:06.562317Z",
     "start_time": "2025-08-13T09:23:06.555870Z"
    }
   },
   "source": [
    "import pandas as pd\n",
    "import numpy as np\n",
    "import os\n",
    "import glob\n",
    "import re\n",
    "from datetime import datetime, timedelta\n",
    "import warnings\n",
    "warnings.filterwarnings('ignore')\n",
    "\n",
    "# 머신러닝 라이브러리\n",
    "import lightgbm_0814 as lgb\n",
    "from sklearn.ensemble import RandomForestRegressor\n",
    "from sklearn.preprocessing import LabelEncoder\n",
    "from sklearn.model_selection import TimeSeriesSplit\n",
    "from sklearn.metrics import mean_absolute_error\n",
    "\n",
    "# 날짜 관련\n",
    "import holidays\n",
    "\n",
    "# 시각화 (필요시)\n",
    "import matplotlib.pyplot as plt\n",
    "import seaborn as sns\n",
    "\n",
    "# 랜덤 시드 고정\n",
    "np.random.seed(42)\n",
    "\n",
    "print(\"=== 곤지암 리조트 최종 수요예측 모델 ===\")\n",
    "print(\"라이브러리 로드 완료\")\n"
   ],
   "outputs": [
    {
     "name": "stdout",
     "output_type": "stream",
     "text": [
      "=== 곤지암 리조트 최종 수요예측 모델 ===\n",
      "라이브러리 로드 완료\n"
     ]
    }
   ],
   "execution_count": 11
  },
  {
   "metadata": {},
   "cell_type": "markdown",
   "source": "# 2. 유틸리티 함수 정의\n",
   "id": "13626d7220699984"
  },
  {
   "metadata": {
    "ExecuteTime": {
     "end_time": "2025-08-13T09:23:06.599847Z",
     "start_time": "2025-08-13T09:23:06.595416Z"
    }
   },
   "cell_type": "code",
   "source": [
    "def get_korean_season_info(date):\n",
    "    \"\"\"한국 계절 정보 반환\"\"\"\n",
    "    month = date.month\n",
    "    \n",
    "    season_info = {\n",
    "        'spring': month in [3, 4, 5],\n",
    "        'summer': month in [6, 7, 8], \n",
    "        'autumn': month in [9, 10, 11],\n",
    "        'winter': month in [12, 1, 2],\n",
    "        'ski_season': month in [12, 1, 2, 3],      # 스키시즌\n",
    "        'summer_vacation': month in [7, 8],        # 여름휴가철\n",
    "        'autumn_foliage': month in [10, 11],       # 단풍철\n",
    "        'cherry_blossom': month in [4, 5],         # 벚꽃철\n",
    "    }\n",
    "    \n",
    "    return season_info\n",
    "\n",
    "def get_holiday_info(date):\n",
    "    \"\"\"한국 공휴일 정보 반환\"\"\"\n",
    "    kr_holidays = holidays.SouthKorea()\n",
    "    \n",
    "    holiday_info = {\n",
    "        'is_holiday': date in kr_holidays,\n",
    "        'is_weekend': date.weekday() >= 5,\n",
    "        'is_friday': date.weekday() == 4,  # 금요일 (주말 연휴 시작)\n",
    "        'is_monday': date.weekday() == 0,  # 월요일 (주말 연휴 끝)\n",
    "    }\n",
    "    \n",
    "    holiday_info['is_long_weekend'] = holiday_info['is_holiday'] or holiday_info['is_weekend']\n",
    "    \n",
    "    return holiday_info\n",
    "\n",
    "def safe_numeric_conversion(df, columns):\n",
    "    \"\"\"안전한 숫자형 변환\"\"\"\n",
    "    for col in columns:\n",
    "        if col in df.columns:\n",
    "            # 문자열을 숫자로 변환, 변환 불가능한 값은 0으로\n",
    "            df[col] = pd.to_numeric(df[col], errors='coerce').fillna(0)\n",
    "    return df\n",
    "\n",
    "print(\"유틸리티 함수 정의 완료\")"
   ],
   "id": "6f566f918b2135bd",
   "outputs": [
    {
     "name": "stdout",
     "output_type": "stream",
     "text": [
      "유틸리티 함수 정의 완료\n"
     ]
    }
   ],
   "execution_count": 12
  },
  {
   "metadata": {},
   "cell_type": "markdown",
   "source": "# 2. 데이터 로드 및 전처리\n",
   "id": "aedc7acac54e96ac"
  },
  {
   "metadata": {
    "ExecuteTime": {
     "end_time": "2025-08-13T09:23:06.743787Z",
     "start_time": "2025-08-13T09:23:06.615606Z"
    }
   },
   "cell_type": "code",
   "source": [
    "# 훈련 데이터 로드\n",
    "print(\"데이터 로드 중...\")\n",
    "train_df = pd.read_csv('./train/train.csv')\n",
    "train_df['영업일자'] = pd.to_datetime(train_df['영업일자'])\n",
    "\n",
    "print(f\"훈련 데이터 크기: {train_df.shape}\")\n",
    "print(f\"날짜 범위: {train_df['영업일자'].min()} ~ {train_df['영업일자'].max()}\")\n",
    "\n",
    "# 업장 정보 추출\n",
    "menu_columns = [col for col in train_df.columns if col != '영업일자']\n",
    "\n",
    "# 숫자형 데이터로 안전하게 변환\n",
    "train_df = safe_numeric_conversion(train_df, menu_columns)\n",
    "\n",
    "restaurants = {}\n",
    "for col in menu_columns:\n",
    "    if '_' in col:\n",
    "        restaurant = col.split('_')[0]\n",
    "        if restaurant not in restaurants:\n",
    "            restaurants[restaurant] = []\n",
    "        restaurants[restaurant].append(col)\n",
    "\n",
    "print(f\"총 {len(restaurants)}개 업장:\")\n",
    "for restaurant, menus in restaurants.items():\n",
    "    print(f\"  - {restaurant}: {len(menus)}개 메뉴\")\n"
   ],
   "id": "2fe0ea271ffb2920",
   "outputs": [
    {
     "name": "stdout",
     "output_type": "stream",
     "text": [
      "데이터 로드 중...\n",
      "훈련 데이터 크기: (102676, 3)\n",
      "날짜 범위: 2023-01-01 00:00:00 ~ 2024-06-15 00:00:00\n",
      "총 1개 업장:\n",
      "  - 영업장명: 1개 메뉴\n"
     ]
    }
   ],
   "execution_count": 13
  },
  {
   "metadata": {},
   "cell_type": "markdown",
   "source": "# 3. 피처 엔지니어링\n",
   "id": "925b12f7dc1af815"
  },
  {
   "metadata": {
    "ExecuteTime": {
     "end_time": "2025-08-13T09:23:41.472302Z",
     "start_time": "2025-08-13T09:23:06.744889Z"
    }
   },
   "cell_type": "code",
   "source": [
    "print(\"\\n고급 피처 생성 중...\")\n",
    "\n",
    "# 기본 날짜 피처\n",
    "train_df['연도'] = train_df['영업일자'].dt.year\n",
    "train_df['월'] = train_df['영업일자'].dt.month\n",
    "train_df['일'] = train_df['영업일자'].dt.day\n",
    "train_df['요일'] = train_df['영업일자'].dt.dayofweek\n",
    "train_df['월중순서'] = ((train_df['일'] - 1) // 7) + 1  # 월의 몇 번째 주\n",
    "\n",
    "# 계절 및 공휴일 피처 생성\n",
    "season_features = []\n",
    "holiday_features = []\n",
    "\n",
    "for idx, row in train_df.iterrows():\n",
    "    date = row['영업일자']\n",
    "    \n",
    "    # 계절 정보\n",
    "    season_info = get_korean_season_info(date)\n",
    "    season_features.append(season_info)\n",
    "    \n",
    "    # 공휴일 정보  \n",
    "    holiday_info = get_holiday_info(date)\n",
    "    holiday_features.append(holiday_info)\n",
    "\n",
    "# 피처를 DataFrame에 추가\n",
    "for key in season_features[0].keys():\n",
    "    train_df[key] = [item[key] for item in season_features]\n",
    "\n",
    "for key in holiday_features[0].keys():\n",
    "    train_df[key] = [item[key] for item in holiday_features]\n",
    "\n",
    "# 업장별 피처 생성\n",
    "for restaurant, menu_cols in restaurants.items():\n",
    "    # 해당 컬럼들이 모두 숫자형인지 확인\n",
    "    valid_cols = []\n",
    "    for col in menu_cols:\n",
    "        if col in train_df.columns:\n",
    "            # 숫자형으로 변환 가능한 컬럼만 사용\n",
    "            try:\n",
    "                train_df[col] = pd.to_numeric(train_df[col], errors='coerce').fillna(0)\n",
    "                valid_cols.append(col)\n",
    "            except:\n",
    "                print(f\"Warning: {col} 컬럼을 숫자형으로 변환할 수 없습니다.\")\n",
    "    \n",
    "    if len(valid_cols) > 0:\n",
    "        # 일일 총 주문량\n",
    "        train_df[f'{restaurant}_총주문량'] = train_df[valid_cols].sum(axis=1)\n",
    "        \n",
    "        # 메뉴 다양성 (주문된 메뉴 개수) - 안전한 방식으로 계산\n",
    "        train_df[f'{restaurant}_메뉴다양성'] = (train_df[valid_cols] > 0).sum(axis=1)\n",
    "        \n",
    "        # 평균 메뉴당 주문량\n",
    "        diversity_col = f'{restaurant}_메뉴다양성'\n",
    "        train_df[f'{restaurant}_평균주문량'] = train_df[f'{restaurant}_총주문량'] / train_df[diversity_col].replace(0, 1)\n",
    "        \n",
    "        # 업장별 방문객 추정 (총주문량 / 2.5)\n",
    "        train_df[f'{restaurant}_추정방문객'] = np.maximum(1, train_df[f'{restaurant}_총주문량'] // 2.5)\n",
    "\n",
    "print(\"기본 피처 생성 완료\")"
   ],
   "id": "872cdadbe8c7406c",
   "outputs": [
    {
     "name": "stdout",
     "output_type": "stream",
     "text": [
      "\n",
      "고급 피처 생성 중...\n",
      "기본 피처 생성 완료\n"
     ]
    }
   ],
   "execution_count": 14
  },
  {
   "metadata": {},
   "cell_type": "markdown",
   "source": "# 5. 시계열 피처 생성\n",
   "id": "29d7d6d984851708"
  },
  {
   "metadata": {
    "ExecuteTime": {
     "end_time": "2025-08-13T09:23:41.498093Z",
     "start_time": "2025-08-13T09:23:41.473228Z"
    }
   },
   "cell_type": "code",
   "source": [
    "print(\"시계열 피처 생성 중...\")\n",
    "\n",
    "# 데이터를 날짜순으로 정렬\n",
    "train_df = train_df.sort_values('영업일자').reset_index(drop=True)\n",
    "\n",
    "# 시계열 피처 생성\n",
    "for restaurant in restaurants.keys():\n",
    "    total_col = f'{restaurant}_총주문량'\n",
    "    \n",
    "    if total_col in train_df.columns:\n",
    "        # 7일 이동평균\n",
    "        train_df[f'{restaurant}_7일평균'] = train_df[total_col].rolling(window=7, min_periods=1).mean()\n",
    "        \n",
    "        # 전일 대비 증감률\n",
    "        train_df[f'{restaurant}_전일증감률'] = train_df[total_col].pct_change().fillna(0)\n",
    "        \n",
    "        # 지난주 동일 요일 대비\n",
    "        prev_week = train_df[total_col].shift(7).replace(0, 1).fillna(1)\n",
    "        train_df[f'{restaurant}_지난주대비'] = train_df[total_col] / prev_week\n",
    "\n",
    "print(\"시계열 피처 생성 완료\")"
   ],
   "id": "2100c9bfba1cbd85",
   "outputs": [
    {
     "name": "stdout",
     "output_type": "stream",
     "text": [
      "시계열 피처 생성 중...\n",
      "시계열 피처 생성 완료\n"
     ]
    }
   ],
   "execution_count": 15
  },
  {
   "metadata": {},
   "cell_type": "markdown",
   "source": "# 6. 메뉴 분류 및 상관관계 분석\n",
   "id": "1d36e241f6640337"
  },
  {
   "metadata": {
    "ExecuteTime": {
     "end_time": "2025-08-13T09:23:41.503295Z",
     "start_time": "2025-08-13T09:23:41.499469Z"
    }
   },
   "cell_type": "code",
   "source": [
    "print(\"\\n메뉴 분류 중...\")\n",
    "\n",
    "def classify_menus(restaurants):\n",
    "    \"\"\"메뉴를 메인/서브로 분류\"\"\"\n",
    "    menu_classification = {}\n",
    "    \n",
    "    for restaurant, menu_cols in restaurants.items():\n",
    "        main_menus = []\n",
    "        beverage_menus = []\n",
    "        side_menus = []\n",
    "        \n",
    "        for menu_col in menu_cols:\n",
    "            menu_name = menu_col.split('_', 1)[1].lower()\n",
    "            \n",
    "            # 음료류\n",
    "            if any(keyword in menu_name for keyword in ['콜라', '스프라이트', '맥주', '소주', '막걸리', '아메리카노', '라떼', '음료', '차', '물']):\n",
    "                beverage_menus.append(menu_col)\n",
    "            # 메인 요리 (밥, 면, 고기, 정식 등)\n",
    "            elif any(keyword in menu_name for keyword in ['밥', '면', '탕', '찌개', '구이', '정식', '불고기', '갈비', '브런치', '플래터', '스테이크', '파스타']):\n",
    "                main_menus.append(menu_col)\n",
    "            # 사이드 메뉴\n",
    "            else:\n",
    "                side_menus.append(menu_col)\n",
    "        \n",
    "        menu_classification[restaurant] = {\n",
    "            'main': main_menus,\n",
    "            'beverage': beverage_menus,\n",
    "            'side': side_menus\n",
    "        }\n",
    "        \n",
    "        print(f\"{restaurant}: 메인 {len(main_menus)}, 음료 {len(beverage_menus)}, 사이드 {len(side_menus)}\")\n",
    "    \n",
    "    return menu_classification\n",
    "\n",
    "menu_classification = classify_menus(restaurants)"
   ],
   "id": "d241dffb30c1947d",
   "outputs": [
    {
     "name": "stdout",
     "output_type": "stream",
     "text": [
      "\n",
      "메뉴 분류 중...\n",
      "영업장명: 메인 0, 음료 0, 사이드 1\n"
     ]
    }
   ],
   "execution_count": 16
  },
  {
   "metadata": {},
   "cell_type": "markdown",
   "source": "# 7. 메뉴 관계 분석\n",
   "id": "bcbdeafd141178f1"
  },
  {
   "metadata": {
    "ExecuteTime": {
     "end_time": "2025-08-13T09:23:41.507366Z",
     "start_time": "2025-08-13T09:23:41.503991Z"
    }
   },
   "cell_type": "code",
   "source": [
    "print(\"\\n메뉴 관계 분석 중...\")\n",
    "\n",
    "def analyze_menu_relationships(df, menu_classification):\n",
    "    \"\"\"메뉴 간 관계 분석\"\"\"\n",
    "    menu_rules = {}\n",
    "    \n",
    "    for restaurant, menus in menu_classification.items():\n",
    "        rules = {}\n",
    "        \n",
    "        # 메인 메뉴 주문 시 음료 주문 확률\n",
    "        for main_menu in menus['main']:\n",
    "            if main_menu not in df.columns:\n",
    "                continue\n",
    "                \n",
    "            main_orders = df[df[main_menu] > 0]\n",
    "            if len(main_orders) == 0:\n",
    "                continue\n",
    "                \n",
    "            beverage_probs = {}\n",
    "            for beverage in menus['beverage']:\n",
    "                if beverage not in df.columns:\n",
    "                    continue\n",
    "                    \n",
    "                prob = len(main_orders[main_orders[beverage] > 0]) / len(main_orders)\n",
    "                if prob > 0.1:  # 10% 이상인 경우만\n",
    "                    beverage_orders = main_orders[main_orders[beverage] > 0]\n",
    "                    if len(beverage_orders) > 0:\n",
    "                        avg_qty = beverage_orders[beverage].mean()\n",
    "                        beverage_probs[beverage] = {'prob': prob, 'avg_qty': avg_qty}\n",
    "            \n",
    "            if beverage_probs:\n",
    "                rules[main_menu] = beverage_probs\n",
    "        \n",
    "        menu_rules[restaurant] = rules\n",
    "    \n",
    "    return menu_rules\n",
    "\n",
    "menu_rules = analyze_menu_relationships(train_df, menu_classification)\n",
    "print(\"메뉴 관계 분석 완료\")"
   ],
   "id": "404b162f2989e444",
   "outputs": [
    {
     "name": "stdout",
     "output_type": "stream",
     "text": [
      "\n",
      "메뉴 관계 분석 중...\n",
      "메뉴 관계 분석 완료\n"
     ]
    }
   ],
   "execution_count": 17
  },
  {
   "metadata": {},
   "cell_type": "markdown",
   "source": "# 8. 방문객 예측 모델 생성\n",
   "id": "bac112ed161f4c56"
  },
  {
   "metadata": {
    "ExecuteTime": {
     "end_time": "2025-08-13T09:23:41.629220Z",
     "start_time": "2025-08-13T09:23:41.508009Z"
    }
   },
   "cell_type": "code",
   "source": [
    "print(\"\\n방문객 예측 모델 학습 중...\")\n",
    "\n",
    "def create_visitor_models(df, restaurants):\n",
    "    \"\"\"업장별 방문객 예측 모델 생성\"\"\"\n",
    "    visitor_models = {}\n",
    "    \n",
    "    # 피처 정의\n",
    "    visitor_features = ['월', '일', '요일', '월중순서', 'spring', 'summer', 'autumn', 'winter',\n",
    "                       'ski_season', 'summer_vacation', 'autumn_foliage', 'cherry_blossom',\n",
    "                       'is_holiday', 'is_weekend', 'is_friday', 'is_monday', 'is_long_weekend']\n",
    "    \n",
    "    for restaurant in restaurants.keys():\n",
    "        target_col = f'{restaurant}_추정방문객'\n",
    "        \n",
    "        if target_col not in df.columns:\n",
    "            continue\n",
    "            \n",
    "        # 피처에 과거 정보 추가\n",
    "        features = visitor_features.copy()\n",
    "        \n",
    "        # 시계열 피처 추가 (있는 경우에만)\n",
    "        if f'{restaurant}_7일평균' in df.columns:\n",
    "            features.append(f'{restaurant}_7일평균')\n",
    "        if f'{restaurant}_전일증감률' in df.columns:\n",
    "            features.append(f'{restaurant}_전일증감률')\n",
    "        \n",
    "        # 피처 데이터 준비\n",
    "        feature_data = []\n",
    "        for feature in features:\n",
    "            if feature in df.columns:\n",
    "                feature_data.append(df[feature].fillna(0))\n",
    "            else:\n",
    "                feature_data.append(pd.Series([0] * len(df)))\n",
    "        \n",
    "        X = pd.concat(feature_data, axis=1)\n",
    "        X.columns = features\n",
    "        y = df[target_col]\n",
    "        \n",
    "        # 모델 학습\n",
    "        try:\n",
    "            model = lgb.LGBMRegressor(\n",
    "                n_estimators=100,\n",
    "                max_depth=6,\n",
    "                learning_rate=0.08,\n",
    "                random_state=42,\n",
    "                verbosity=-1\n",
    "            )\n",
    "            \n",
    "            model.fit(X, y)\n",
    "            visitor_models[restaurant] = {\n",
    "                'model': model,\n",
    "                'features': features\n",
    "            }\n",
    "            print(f\"{restaurant} 방문객 모델 학습 완료\")\n",
    "        except Exception as e:\n",
    "            print(f\"{restaurant} 방문객 모델 학습 실패: {e}\")\n",
    "    \n",
    "    return visitor_models\n",
    "\n",
    "visitor_models = create_visitor_models(train_df, restaurants)"
   ],
   "id": "940d4fb45347643e",
   "outputs": [
    {
     "name": "stdout",
     "output_type": "stream",
     "text": [
      "\n",
      "방문객 예측 모델 학습 중...\n",
      "영업장명 방문객 모델 학습 완료\n"
     ]
    }
   ],
   "execution_count": 18
  },
  {
   "metadata": {},
   "cell_type": "markdown",
   "source": "# 9. 메뉴별 수요 예측 모델 생성\n",
   "id": "fc5954be42ffe574"
  },
  {
   "metadata": {
    "ExecuteTime": {
     "end_time": "2025-08-13T09:23:41.644634Z",
     "start_time": "2025-08-13T09:23:41.630607Z"
    }
   },
   "cell_type": "code",
   "source": [
    "print(\"\\n메뉴별 예측 모델 학습 중...\")\n",
    "\n",
    "def create_menu_models(df, restaurants, menu_classification, visitor_models):\n",
    "    \"\"\"메뉴별 수요 예측 모델 생성\"\"\"\n",
    "    menu_models = {}\n",
    "    \n",
    "    for restaurant, menu_cols in restaurants.items():\n",
    "        restaurant_models = {}\n",
    "        \n",
    "        for menu_col in menu_cols:\n",
    "            if menu_col not in df.columns:\n",
    "                continue\n",
    "                \n",
    "            # 기본 피처\n",
    "            features = ['월', '일', '요일', 'spring', 'summer', 'autumn', 'winter',\n",
    "                       'ski_season', 'summer_vacation', 'autumn_foliage',\n",
    "                       'is_holiday', 'is_weekend', 'is_long_weekend']\n",
    "            \n",
    "            # 업장별 정보 추가\n",
    "            visitor_col = f'{restaurant}_추정방문객'\n",
    "            avg_col = f'{restaurant}_7일평균'\n",
    "            \n",
    "            if visitor_col in df.columns:\n",
    "                features.append(visitor_col)\n",
    "            if avg_col in df.columns:\n",
    "                features.append(avg_col)\n",
    "            \n",
    "            # 시계열 피처 생성\n",
    "            lag1_col = f'{menu_col}_lag1'\n",
    "            lag7_col = f'{menu_col}_lag7'\n",
    "            \n",
    "            df[lag1_col] = df[menu_col].shift(1).fillna(0)\n",
    "            df[lag7_col] = df[menu_col].shift(7).fillna(0)\n",
    "            features.extend([lag1_col, lag7_col])\n",
    "            \n",
    "            # 같은 업장 다른 메뉴들의 영향\n",
    "            other_menus = [col for col in menu_cols if col != menu_col and col in df.columns]\n",
    "            if other_menus:\n",
    "                other_sum_col = f'{menu_col}_other_sum'\n",
    "                df[other_sum_col] = df[other_menus].sum(axis=1)\n",
    "                features.append(other_sum_col)\n",
    "            \n",
    "            # 메뉴 타입별 특성\n",
    "            menu_name = menu_col.split('_', 1)[1].lower()\n",
    "            \n",
    "            # 계절별 특성 가중치\n",
    "            if any(keyword in menu_name for keyword in ['냉면', '아이스', '시원한']):\n",
    "                summer_boost_col = f'{menu_col}_summer_boost'\n",
    "                df[summer_boost_col] = df['summer'].astype(int) * 2\n",
    "                features.append(summer_boost_col)\n",
    "            elif any(keyword in menu_name for keyword in ['찌개', '탕', '따뜻한']):\n",
    "                winter_boost_col = f'{menu_col}_winter_boost'\n",
    "                df[winter_boost_col] = df['winter'].astype(int) * 2\n",
    "                features.append(winter_boost_col)\n",
    "            \n",
    "            # 피처 데이터 준비\n",
    "            feature_data = []\n",
    "            for feature in features:\n",
    "                if feature in df.columns:\n",
    "                    feature_data.append(df[feature].fillna(0))\n",
    "                else:\n",
    "                    feature_data.append(pd.Series([0] * len(df)))\n",
    "            \n",
    "            X = pd.concat(feature_data, axis=1)\n",
    "            X.columns = features\n",
    "            y = df[menu_col]\n",
    "            \n",
    "            # 모델 학습 (수요가 있는 메뉴만)\n",
    "            if y.sum() > 0 and len(X) > 30:\n",
    "                try:\n",
    "                    model = lgb.LGBMRegressor(\n",
    "                        n_estimators=100,\n",
    "                        max_depth=5,\n",
    "                        learning_rate=0.08,\n",
    "                        random_state=42,\n",
    "                        verbosity=-1\n",
    "                    )\n",
    "                    \n",
    "                    model.fit(X, y)\n",
    "                    restaurant_models[menu_col] = {\n",
    "                        'model': model,\n",
    "                        'features': features\n",
    "                    }\n",
    "                except Exception as e:\n",
    "                    print(f\"{menu_col} 모델 학습 실패: {e}\")\n",
    "        \n",
    "        menu_models[restaurant] = restaurant_models\n",
    "        print(f\"{restaurant}: {len(restaurant_models)}개 메뉴 모델 학습 완료\")\n",
    "    \n",
    "    return menu_models\n",
    "\n",
    "menu_models = create_menu_models(train_df, restaurants, menu_classification, visitor_models)\n",
    "\n",
    "print(f\"\\n학습 완료:\")\n",
    "print(f\"- 방문객 모델: {len(visitor_models)}개\")\n",
    "print(f\"- 메뉴 모델: {sum(len(models) for models in menu_models.values())}개\")"
   ],
   "id": "28883409cbcb81ca",
   "outputs": [
    {
     "name": "stdout",
     "output_type": "stream",
     "text": [
      "\n",
      "메뉴별 예측 모델 학습 중...\n",
      "영업장명: 0개 메뉴 모델 학습 완료\n",
      "\n",
      "학습 완료:\n",
      "- 방문객 모델: 1개\n",
      "- 메뉴 모델: 0개\n"
     ]
    }
   ],
   "execution_count": 19
  },
  {
   "metadata": {},
   "cell_type": "markdown",
   "source": "# 10. 예측 함수 정의\n",
   "id": "e16460ed51ab9183"
  },
  {
   "metadata": {
    "ExecuteTime": {
     "end_time": "2025-08-13T09:23:41.650112Z",
     "start_time": "2025-08-13T09:23:41.645629Z"
    }
   },
   "cell_type": "code",
   "source": [
    "def estimate_visitors_rule_based(restaurant, date_features):\n",
    "    \"\"\"규칙 기반 방문객 수 추정\"\"\"\n",
    "    base_visitors = {\n",
    "        '느티나무 셀프BBQ': 80,\n",
    "        '담하': 60,\n",
    "        '라그로타': 40,\n",
    "        '미라시아': 70,\n",
    "        '연회장': 30,\n",
    "        '카페테리아': 100,\n",
    "        '포레스트릿': 50,\n",
    "        '화담숲주막': 35,\n",
    "        '화담숲카페': 45\n",
    "    }.get(restaurant, 50)\n",
    "    \n",
    "    # 주말/공휴일 효과\n",
    "    if date_features.get('is_long_weekend', False):\n",
    "        base_visitors *= 1.4\n",
    "    \n",
    "    # 계절 효과\n",
    "    if date_features.get('summer_vacation', False):\n",
    "        base_visitors *= 1.2\n",
    "    elif date_features.get('ski_season', False):\n",
    "        base_visitors *= 1.3\n",
    "    elif date_features.get('autumn_foliage', False):\n",
    "        base_visitors *= 1.1\n",
    "    \n",
    "    return max(1, int(base_visitors))\n",
    "\n",
    "def estimate_menu_rule_based(menu_col, visitors, date_features):\n",
    "    \"\"\"규칙 기반 메뉴 수요 추정\"\"\"\n",
    "    menu_name = menu_col.split('_', 1)[1].lower()\n",
    "    \n",
    "    # 기본 주문 비율\n",
    "    base_ratio = 0.2\n",
    "    \n",
    "    # 메뉴 타입별 조정\n",
    "    if any(keyword in menu_name for keyword in ['콜라', '스프라이트', '음료']):\n",
    "        base_ratio = 0.4  # 음료는 높은 주문률\n",
    "    elif any(keyword in menu_name for keyword in ['밥', '정식', '브런치']):\n",
    "        base_ratio = 0.3  # 주식류\n",
    "    elif any(keyword in menu_name for keyword in ['고기', '불고기', '갈비']):\n",
    "        base_ratio = 0.25  # 고기류\n",
    "    elif any(keyword in menu_name for keyword in ['면', '파스타']):\n",
    "        base_ratio = 0.2  # 면류\n",
    "    \n",
    "    # 계절 효과\n",
    "    if date_features.get('summer', False) and any(keyword in menu_name for keyword in ['냉', '아이스']):\n",
    "        base_ratio *= 1.5\n",
    "    elif date_features.get('winter', False) and any(keyword in menu_name for keyword in ['찌개', '탕']):\n",
    "        base_ratio *= 1.3\n",
    "    \n",
    "    # 주말 효과\n",
    "    if date_features.get('is_weekend', False):\n",
    "        base_ratio *= 1.2\n",
    "    \n",
    "    predicted_quantity = visitors * base_ratio\n",
    "    return max(0, predicted_quantity)\n",
    "\n",
    "print(\"예측 함수 정의 완료\")"
   ],
   "id": "dd1dd41fa30a7e58",
   "outputs": [
    {
     "name": "stdout",
     "output_type": "stream",
     "text": [
      "예측 함수 정의 완료\n"
     ]
    }
   ],
   "execution_count": 20
  },
  {
   "metadata": {},
   "cell_type": "markdown",
   "source": "# 11. 테스트 데이터 예측 실행\n",
   "id": "9fd420f5fc1ee493"
  },
  {
   "metadata": {
    "ExecuteTime": {
     "end_time": "2025-08-13T09:23:41.714153Z",
     "start_time": "2025-08-13T09:23:41.651407Z"
    }
   },
   "cell_type": "code",
   "source": [
    "print(\"\\n테스트 데이터 예측 중...\")\n",
    "\n",
    "# 테스트 파일들 로드\n",
    "test_files = glob.glob('./test/TEST_*.csv')\n",
    "all_predictions = []\n",
    "\n",
    "print(f\"발견된 테스트 파일: {len(test_files)}개\")\n",
    "\n",
    "for test_file in sorted(test_files):\n",
    "    print(f\"처리 중: {os.path.basename(test_file)}\")\n",
    "    \n",
    "    # 파일명에서 테스트 번호 추출\n",
    "    test_match = re.search(r'TEST_(\\d+)', test_file)\n",
    "    if not test_match:\n",
    "        continue\n",
    "        \n",
    "    test_num = test_match.group(1)\n",
    "    \n",
    "    # 7일간 예측\n",
    "    for day in range(1, 8):\n",
    "        pred_date_str = f\"TEST_{test_num}+{day}일\"\n",
    "        \n",
    "        # 가상 날짜 생성 (예측을 위한)\n",
    "        base_date = datetime(2025, 1, 1) + timedelta(days=int(test_num)*7 + day - 1)\n",
    "        \n",
    "        # 날짜 피처 생성\n",
    "        date_features = {\n",
    "            '월': base_date.month,\n",
    "            '일': base_date.day,\n",
    "            '요일': base_date.weekday(),\n",
    "            '월중순서': ((base_date.day - 1) // 7) + 1\n",
    "        }\n",
    "        \n",
    "        # 계절/공휴일 피처\n",
    "        season_info = get_korean_season_info(base_date)\n",
    "        holiday_info = get_holiday_info(base_date)\n",
    "        \n",
    "        date_features.update(season_info)\n",
    "        date_features.update(holiday_info)\n",
    "        \n",
    "        # 업장별 예측\n",
    "        for restaurant, menu_cols in restaurants.items():\n",
    "            # 1단계: 방문객 수 예측\n",
    "            if restaurant in visitor_models:\n",
    "                visitor_model = visitor_models[restaurant]\n",
    "                \n",
    "                # 방문객 예측용 피처 벡터 생성\n",
    "                visitor_features_vector = []\n",
    "                for feature in visitor_model['features']:\n",
    "                    if feature in date_features:\n",
    "                        visitor_features_vector.append(int(date_features[feature]) if isinstance(date_features[feature], bool) else date_features[feature])\n",
    "                    else:\n",
    "                        visitor_features_vector.append(0)  # 시계열 피처는 0으로\n",
    "                \n",
    "                try:\n",
    "                    predicted_visitors = max(1, visitor_model['model'].predict([visitor_features_vector])[0])\n",
    "                except Exception as e:\n",
    "                    predicted_visitors = estimate_visitors_rule_based(restaurant, date_features)\n",
    "            else:\n",
    "                predicted_visitors = estimate_visitors_rule_based(restaurant, date_features)\n",
    "            \n",
    "            # 2단계: 메뉴별 수요 예측\n",
    "            for menu_col in menu_cols:\n",
    "                if restaurant in menu_models and menu_col in menu_models[restaurant]:\n",
    "                    menu_model_info = menu_models[restaurant][menu_col]\n",
    "                    \n",
    "                    # 메뉴 예측용 피처 벡터 생성\n",
    "                    menu_features_vector = []\n",
    "                    for feature in menu_model_info['features']:\n",
    "                        if feature in date_features:\n",
    "                            feature_value = date_features[feature]\n",
    "                            menu_features_vector.append(int(feature_value) if isinstance(feature_value, bool) else feature_value)\n",
    "                        elif f'{restaurant}_추정방문객' in feature:\n",
    "                            menu_features_vector.append(predicted_visitors)\n",
    "                        else:\n",
    "                            menu_features_vector.append(0)\n",
    "                    \n",
    "                    try:\n",
    "                        predicted_quantity = max(0, menu_model_info['model'].predict([menu_features_vector])[0])\n",
    "                    except Exception as e:\n",
    "                        predicted_quantity = estimate_menu_rule_based(menu_col, predicted_visitors, date_features)\n",
    "                else:\n",
    "                    predicted_quantity = estimate_menu_rule_based(menu_col, predicted_visitors, date_features)\n",
    "                \n",
    "                all_predictions.append({\n",
    "                    '영업일자': pred_date_str,\n",
    "                    '영업장명_메뉴명': menu_col,\n",
    "                    '매출수량': predicted_quantity\n",
    "                })\n",
    "\n",
    "predictions_df = pd.DataFrame(all_predictions)\n",
    "print(f\"예측 완료: {len(predictions_df)} 건\")"
   ],
   "id": "69320490f64ee601",
   "outputs": [
    {
     "name": "stdout",
     "output_type": "stream",
     "text": [
      "\n",
      "테스트 데이터 예측 중...\n",
      "발견된 테스트 파일: 10개\n",
      "처리 중: TEST_00.csv\n",
      "처리 중: TEST_01.csv\n",
      "처리 중: TEST_02.csv\n",
      "처리 중: TEST_03.csv\n",
      "처리 중: TEST_04.csv\n",
      "처리 중: TEST_05.csv\n",
      "처리 중: TEST_06.csv\n",
      "처리 중: TEST_07.csv\n",
      "처리 중: TEST_08.csv\n",
      "처리 중: TEST_09.csv\n",
      "예측 완료: 70 건\n"
     ]
    }
   ],
   "execution_count": 21
  },
  {
   "metadata": {},
   "cell_type": "markdown",
   "source": "# 12. 제출 파일 생성\n",
   "id": "121281ffe426f4c2"
  },
  {
   "metadata": {
    "ExecuteTime": {
     "end_time": "2025-08-13T09:23:41.739522Z",
     "start_time": "2025-08-13T09:23:41.717246Z"
    }
   },
   "cell_type": "code",
   "source": [
    "print(\"\\n제출 파일 생성 중...\")\n",
    "\n",
    "# 예측 결과를 딕셔너리로 변환\n",
    "pred_dict = dict(zip(\n",
    "    zip(predictions_df['영업일자'], predictions_df['영업장명_메뉴명']),\n",
    "    predictions_df['매출수량']\n",
    "))\n",
    "\n",
    "# 샘플 서브미션 로드 또는 생성\n",
    "try:\n",
    "    sample_submission = pd.read_csv('./sample_submission.csv')\n",
    "    print(\"샘플 서브미션 파일 로드 완료\")\n",
    "except:\n",
    "    # 샘플 파일이 없으면 생성\n",
    "    print(\"샘플 서브미션 파일 생성 중...\")\n",
    "    all_dates = sorted(predictions_df['영업일자'].unique())\n",
    "    all_menus = sorted(predictions_df['영업장명_메뉴명'].unique())\n",
    "    \n",
    "    rows = []\n",
    "    for date in all_dates:\n",
    "        row = {'영업일자': date}\n",
    "        for menu in all_menus:\n",
    "            row[menu] = 0\n",
    "        rows.append(row)\n",
    "    \n",
    "    sample_submission = pd.DataFrame(rows)\n",
    "\n",
    "# 예측값 적용\n",
    "final_submission = sample_submission.copy()\n",
    "\n",
    "for row_idx in final_submission.index:\n",
    "    date = final_submission.loc[row_idx, '영업일자']\n",
    "    for col in final_submission.columns[1:]:\n",
    "        if (date, col) in pred_dict:\n",
    "            final_submission.loc[row_idx, col] = pred_dict[(date, col)]\n",
    "        else:\n",
    "            final_submission.loc[row_idx, col] = 0\n",
    "\n",
    "# 결과 저장\n",
    "final_submission.to_csv('final_enhanced_submission.csv', index=False, encoding='utf-8-sig')\n",
    "\n",
    "print(f\"\\n=== 예측 완료 ===\")\n",
    "print(f\"총 예측 건수: {len(predictions_df):,}\")\n",
    "print(f\"제출 파일: final_enhanced_submission.csv\")"
   ],
   "id": "b17d8b85b7dcfaee",
   "outputs": [
    {
     "name": "stdout",
     "output_type": "stream",
     "text": [
      "\n",
      "제출 파일 생성 중...\n",
      "샘플 서브미션 파일 생성 중...\n",
      "\n",
      "=== 예측 완료 ===\n",
      "총 예측 건수: 70\n",
      "제출 파일: final_enhanced_submission.csv\n"
     ]
    }
   ],
   "execution_count": 22
  },
  {
   "metadata": {},
   "cell_type": "markdown",
   "source": "# 13. 결과 분석\n",
   "id": "76248e61c1462905"
  },
  {
   "metadata": {
    "ExecuteTime": {
     "end_time": "2025-08-13T09:23:41.745684Z",
     "start_time": "2025-08-13T09:23:41.740601Z"
    }
   },
   "cell_type": "code",
   "source": [
    "print(f\"\\n=== 예측 통계 ===\")\n",
    "print(f\"총 예측 수량: {predictions_df['매출수량'].sum():,.0f}\")\n",
    "print(f\"평균 예측 수량: {predictions_df['매출수량'].mean():.2f}\")\n",
    "print(f\"최대 예측 수량: {predictions_df['매출수량'].max():.0f}\")\n",
    "print(f\"제로 예측 비율: {(predictions_df['매출수량'] == 0).mean()*100:.1f}%\")\n",
    "\n",
    "# 업장별 예측 통계\n",
    "print(f\"\\n=== 업장별 예측 통계 ===\")\n",
    "for restaurant in restaurants.keys():\n",
    "    restaurant_preds = predictions_df[predictions_df['영업장명_메뉴명'].str.startswith(restaurant)]\n",
    "    if len(restaurant_preds) > 0:\n",
    "        total_pred = restaurant_preds['매출수량'].sum()\n",
    "        avg_pred = restaurant_preds['매출수량'].mean()\n",
    "        print(f\"{restaurant}: 총 {total_pred:,.0f}, 평균 {avg_pred:.1f}\")\n",
    "\n",
    "print(f\"\\n=== 모든 처리 완료 ===\")"
   ],
   "id": "ce36bfc9d71ff6c6",
   "outputs": [
    {
     "name": "stdout",
     "output_type": "stream",
     "text": [
      "\n",
      "=== 예측 통계 ===\n",
      "총 예측 수량: 15\n",
      "평균 예측 수량: 0.21\n",
      "최대 예측 수량: 0\n",
      "제로 예측 비율: 0.0%\n",
      "\n",
      "=== 업장별 예측 통계 ===\n",
      "영업장명: 총 15, 평균 0.2\n",
      "\n",
      "=== 모든 처리 완료 ===\n"
     ]
    }
   ],
   "execution_count": 23
  }
 ],
 "metadata": {
  "kernelspec": {
   "display_name": "Python 3",
   "language": "python",
   "name": "python3"
  },
  "language_info": {
   "codemirror_mode": {
    "name": "ipython",
    "version": 2
   },
   "file_extension": ".py",
   "mimetype": "text/x-python",
   "name": "python",
   "nbconvert_exporter": "python",
   "pygments_lexer": "ipython2",
   "version": "2.7.6"
  }
 },
 "nbformat": 4,
 "nbformat_minor": 5
}
